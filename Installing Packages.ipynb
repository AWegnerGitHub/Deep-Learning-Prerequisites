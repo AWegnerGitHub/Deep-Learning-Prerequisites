{
 "cells": [
  {
   "cell_type": "markdown",
   "metadata": {},
   "source": [
    "## TensorFlow\n",
    "\n",
    "TensorFlow on Window: https://www.tensorflow.org/install/install_windows\n",
    "\n",
    "    pip3 install --upgrade tensorflow-gpu\n",
    "    \n",
    "Requires Python 3.5+\n",
    "\n",
    "Above command installed TensorFlow that utilized Nvidia CUDA package. This requires the following:\n",
    "\n",
    " - http://docs.nvidia.com/cuda/cuda-installation-guide-microsoft-windows/#axzz4eqJlQpku  (1.3GB Download)\n",
    " - https://developer.nvidia.com/cudnn  (Membership required); Add the path of this DLL to the %PATH% environment variable\n",
    " \n",
    "TensorFlow is not available on Python 3.6 as of April 20, 2017. Precompiled wheel files are available from http://www.lfd.uci.edu/%7Egohlke/pythonlibs/#tensorflow\n",
    "\n",
    "Alternative, downgrade to Python 3.5"
   ]
  },
  {
   "cell_type": "code",
   "execution_count": 2,
   "metadata": {},
   "outputs": [
    {
     "name": "stdout",
     "output_type": "stream",
     "text": [
      "b'Hello, TensorFlow!'\n"
     ]
    }
   ],
   "source": [
    "import tensorflow as tf\n",
    "\n",
    "hello = tf.constant('Hello, TensorFlow!')\n",
    "sess = tf.Session()\n",
    "print(sess.run(hello))             "
   ]
  },
  {
   "cell_type": "markdown",
   "metadata": {},
   "source": [
    "## Theano\n",
    "\n",
    "    pip install Theano"
   ]
  },
  {
   "cell_type": "markdown",
   "metadata": {},
   "source": [
    "Better option than above Windows solutions: Use a Virtual Machine if running Windows."
   ]
  }
 ],
 "metadata": {
  "kernelspec": {
   "display_name": "Python 3",
   "language": "python",
   "name": "python3"
  },
  "language_info": {
   "codemirror_mode": {
    "name": "ipython",
    "version": 3
   },
   "file_extension": ".py",
   "mimetype": "text/x-python",
   "name": "python",
   "nbconvert_exporter": "python",
   "pygments_lexer": "ipython3",
   "version": "3.6.1"
  }
 },
 "nbformat": 4,
 "nbformat_minor": 2
}
