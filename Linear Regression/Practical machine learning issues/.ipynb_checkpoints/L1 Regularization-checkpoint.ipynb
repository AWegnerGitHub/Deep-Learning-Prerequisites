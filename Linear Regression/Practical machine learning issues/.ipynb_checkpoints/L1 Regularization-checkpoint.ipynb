{
 "cells": [
  {
   "cell_type": "code",
   "execution_count": 1,
   "metadata": {
    "collapsed": true
   },
   "outputs": [],
   "source": [
    "% matplotlib inline\n",
    "import numpy as np\n",
    "import matplotlib.pyplot as plt"
   ]
  },
  {
   "cell_type": "code",
   "execution_count": 2,
   "metadata": {},
   "outputs": [
    {
     "name": "stdout",
     "output_type": "stream",
     "text": [
      "[[ 4.51302914  1.52662313 -4.1329607  ..., -0.98048605  1.99055407\n",
      "  -4.05867232]\n",
      " [ 0.34389237 -4.99601435 -2.83001997 ..., -4.0408271   4.48696205\n",
      "   4.32554725]\n",
      " [ 1.52754405 -3.05777327 -1.8895317  ..., -2.25887416  0.68368525\n",
      "  -2.83054144]\n",
      " ..., \n",
      " [-3.0621919   4.91184701 -1.95025867 ...,  3.10413521  3.73822168\n",
      "   3.54031291]\n",
      " [ 2.58136502  2.32125355 -3.27766142 ...,  4.09822489  1.46870647\n",
      "   2.02902522]\n",
      " [-0.14624471 -1.41365756 -1.58160274 ..., -4.75930058 -2.94355254\n",
      "   2.19789148]]\n"
     ]
    }
   ],
   "source": [
    "N = 50\n",
    "D = 50\n",
    "\n",
    "# uniformly distributed numbers between -5, +5\n",
    "X = (np.random.random((N, D)) - 0.5)*10\n",
    "print(X)"
   ]
  },
  {
   "cell_type": "code",
   "execution_count": 3,
   "metadata": {
    "collapsed": true
   },
   "outputs": [],
   "source": [
    "# true weights - only the first 3 dimensions of X affect Y\n",
    "true_w = np.array([1, 0.5, -0.5] + [0]*(D - 3))\n",
    "\n",
    "# generate Y - add noise with variance 0.5\n",
    "Y = X.dot(true_w) + np.random.randn(N)*0.5"
   ]
  },
  {
   "cell_type": "code",
   "execution_count": 5,
   "metadata": {
    "collapsed": true
   },
   "outputs": [],
   "source": [
    "# perform gradient descent to find w\n",
    "costs = [] # keep track of squared error cost\n",
    "w = np.random.randn(D) / np.sqrt(D) # randomly initialize w\n",
    "learning_rate = 0.001\n",
    "l1 = 10.0 # Also try 5.0, 2.0, 1.0, 0.1 - what effect does it have on w?\n",
    "for t in range(500):\n",
    "    # update w\n",
    "    Yhat = X.dot(w)\n",
    "    delta = Yhat - Y\n",
    "    w = w - learning_rate*(X.T.dot(delta) + l1*np.sign(w))\n",
    "    \n",
    "    # find and store the cost\n",
    "    mse = delta.dot(delta) / N\n",
    "    costs.append(mse)"
   ]
  },
  {
   "cell_type": "code",
   "execution_count": 6,
   "metadata": {},
   "outputs": [
    {
     "data": {
      "text/plain": [
       "[<matplotlib.lines.Line2D at 0x21744d21400>]"
      ]
     },
     "execution_count": 6,
     "metadata": {},
     "output_type": "execute_result"
    },
    {
     "data": {
      "image/png": "[encoded data removed]",
      "text/plain": [
       "<matplotlib.figure.Figure at 0x21744baaa90>"
      ]
     },
     "metadata": {},
     "output_type": "display_data"
    }
   ],
   "source": [
    "plt.plot(costs)"
   ]
  },
  {
   "cell_type": "code",
   "execution_count": 7,
   "metadata": {},
   "outputs": [
    {
     "name": "stdout",
     "output_type": "stream",
     "text": [
      "final w: [  9.38973347e-01   4.53724431e-01  -4.72513579e-01   7.49697774e-04\n",
      "  -8.96776513e-03  -1.94541716e-02   6.45326742e-04  -4.44097494e-02\n",
      "  -4.13568287e-02  -1.16144063e-02   4.74905374e-03   3.19129806e-02\n",
      "  -4.81918498e-03   3.57395585e-02  -1.07443333e-02  -3.27441283e-02\n",
      "   2.36862527e-02  -2.53395233e-02  -7.70636814e-04   4.28167508e-02\n",
      "   1.69654582e-02   4.69044893e-02  -1.11345368e-02  -3.25175581e-03\n",
      "  -3.32281538e-02  -2.37458370e-03   6.22408849e-02  -1.13162345e-02\n",
      "   1.32499542e-02  -3.30013901e-04  -1.27698752e-02   2.73502853e-03\n",
      "  -4.80664934e-03   1.99310786e-02  -1.68412002e-02   2.23690874e-02\n",
      "  -5.94490287e-03   2.42773470e-02  -3.08695609e-02  -8.06766849e-03\n",
      "   1.89653685e-02  -9.32318043e-04   2.37480342e-02   1.67686437e-02\n",
      "   1.35380417e-02   3.18011869e-02  -6.27429513e-02  -4.25058952e-03\n",
      "  -2.63899560e-02   3.59807445e-03]\n"
     ]
    }
   ],
   "source": [
    "print(\"final w:\", w)"
   ]
  },
  {
   "cell_type": "code",
   "execution_count": 8,
   "metadata": {},
   "outputs": [
    {
     "data": {
      "text/plain": [
       "<matplotlib.legend.Legend at 0x217451389e8>"
      ]
     },
     "execution_count": 8,
     "metadata": {},
     "output_type": "execute_result"
    },
    {
     "data": {
      "image/png": "[encoded data removed]",
      "text/plain": [
       "<matplotlib.figure.Figure at 0x21744cdb9b0>"
      ]
     },
     "metadata": {},
     "output_type": "display_data"
    }
   ],
   "source": [
    "# plot our w vs true w\n",
    "plt.plot(true_w, label='true w')\n",
    "plt.plot(w, label='w_map')\n",
    "plt.legend()"
   ]
  }
 ],
 "metadata": {
  "kernelspec": {
   "display_name": "Python 3",
   "language": "python",
   "name": "python3"
  },
  "language_info": {
   "codemirror_mode": {
    "name": "ipython",
    "version": 3
   },
   "file_extension": ".py",
   "mimetype": "text/x-python",
   "name": "python",
   "nbconvert_exporter": "python",
   "pygments_lexer": "ipython3",
   "version": "3.6.1"
  }
 },
 "nbformat": 4,
 "nbformat_minor": 2
}
