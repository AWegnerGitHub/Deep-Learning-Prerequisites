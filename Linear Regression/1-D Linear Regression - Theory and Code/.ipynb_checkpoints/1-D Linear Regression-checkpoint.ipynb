{
 "cells": [
  {
   "cell_type": "markdown",
   "metadata": {},
   "source": [
    "This covers 1D Linear Regression topics\n",
    "\n",
    " - Defining the model\n",
    " - Coding the 1D solution in Python\n",
    " - Determining how good the model is using r-squared\n",
    " - Demonstrating Moores law with code"
   ]
  },
  {
   "cell_type": "markdown",
   "metadata": {},
   "source": [
    "## Simple Example: Ohm's Law\n",
    "\n",
    "Ohm's Law:   `V = IR`\n",
    "\n",
    "- `V` = Voltage\n",
    "- `I` = current\n",
    "- `R` = resistance\n",
    "\n",
    "Equation for the line is the basic  `y = mx + b` where,\n",
    "\n",
    "- `y` = `V`\n",
    "- `x` = `I`\n",
    "- `m` = `R`\n",
    "- `b` = 0\n",
    "\n",
    "If we are provided voltage and current measurements, finding `R` is a matter of finding the slope of the above line equation:  `R = slope = V/I`"
   ]
  },
  {
   "cell_type": "markdown",
   "metadata": {},
   "source": [
    "Best line fit (described above) is the same for all X/Y combinations (Stock Price vs Twitter Sentiment, Age vs Blood Pressure, etc)"
   ]
  },
  {
   "cell_type": "markdown",
   "metadata": {},
   "source": [
    " ## Python code for line above and linear regression best fit line\n",
    " \n",
    " GitHub: https://github.com/lazyprogrammer/machine_learning_examples/tree/master/linear_regression_class"
   ]
  },
  {
   "cell_type": "code",
   "execution_count": 2,
   "metadata": {
    "collapsed": true
   },
   "outputs": [],
   "source": [
    "% matplotlib inline\n",
    "import numpy as np\n",
    "import matplotlib.pyplot as plt   # Needed to visualize what we are doing"
   ]
  },
  {
   "cell_type": "code",
   "execution_count": 5,
   "metadata": {},
   "outputs": [],
   "source": [
    "# Load data\n",
    "X = []\n",
    "Y = []\n",
    "# Could use CSV reader, but this is quick simple method\n",
    "for line in open('../data/data_1d.csv'):\n",
    "    x, y = line.split(',')\n",
    "    X.append(float(x))\n",
    "    Y.append(float(y))\n",
    "    \n",
    "# Turn into numpy arrays\n",
    "X = np.array(X)\n",
    "Y = np.array(Y)"
   ]
  },
  {
   "cell_type": "code",
   "execution_count": 6,
   "metadata": {},
   "outputs": [
    {
     "data": {
      "text/plain": [
       "<matplotlib.collections.PathCollection at 0x21fdc6af9b0>"
      ]
     },
     "execution_count": 6,
     "metadata": {},
     "output_type": "execute_result"
    },
    {
     "data": {
      "image/png": "[encoded data removed]",
      "text/plain": [
       "<matplotlib.figure.Figure at 0x21fdc384a90>"
      ]
     },
     "metadata": {},
     "output_type": "display_data"
    }
   ],
   "source": [
    "# Plot to see what data looks like\n",
    "plt.scatter(X,Y)"
   ]
  },
  {
   "cell_type": "code",
   "execution_count": 9,
   "metadata": {},
   "outputs": [],
   "source": [
    "# Find A and B - used later\n",
    "denominator = X.dot(X) - X.mean() * X.sum()\n",
    "a = (X.dot(Y) - Y.mean()*X.sum()) / denominator\n",
    "b = (Y.mean() * X.dot(X) - X.mean() * X.dot(Y)) / denominator\n",
    "\n",
    "# Calculate predicted Y\n",
    "Yhat = a*X+b"
   ]
  },
  {
   "cell_type": "code",
   "execution_count": 10,
   "metadata": {},
   "outputs": [
    {
     "data": {
      "text/plain": [
       "[<matplotlib.lines.Line2D at 0x21fdc373fd0>]"
      ]
     },
     "execution_count": 10,
     "metadata": {},
     "output_type": "execute_result"
    },
    {
     "data": {
      "image/png": "[encoded data removed]",
      "text/plain": [
       "<matplotlib.figure.Figure at 0x21fdc6a52e8>"
      ]
     },
     "metadata": {},
     "output_type": "display_data"
    }
   ],
   "source": [
    "# Plot it all\n",
    "plt.scatter(X,Y)\n",
    "# Plot line too\n",
    "plt.plot(X, Yhat)"
   ]
  },
  {
   "cell_type": "markdown",
   "metadata": {},
   "source": [
    "## Determining how good our model is using r-squared\n",
    "\n",
    "Closer to 1.0 is good"
   ]
  },
  {
   "cell_type": "code",
   "execution_count": 11,
   "metadata": {},
   "outputs": [
    {
     "name": "stdout",
     "output_type": "stream",
     "text": [
      "r-squared is: 0.991183820298\n"
     ]
    }
   ],
   "source": [
    "# calculate r-squared\n",
    "d1 = Y - Yhat  # numerator\n",
    "d2 = Y - Y.mean()\n",
    "r2 = 1 - d1.dot(d1) / d2.dot(d2)\n",
    "print(\"r-squared is:\", r2)"
   ]
  }
 ],
 "metadata": {
  "kernelspec": {
   "display_name": "Python 3",
   "language": "python",
   "name": "python3"
  },
  "language_info": {
   "codemirror_mode": {
    "name": "ipython",
    "version": 3
   },
   "file_extension": ".py",
   "mimetype": "text/x-python",
   "name": "python",
   "nbconvert_exporter": "python",
   "pygments_lexer": "ipython3",
   "version": "3.6.1"
  }
 },
 "nbformat": 4,
 "nbformat_minor": 2
}
