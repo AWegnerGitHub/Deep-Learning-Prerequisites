{
 "cells": [
  {
   "cell_type": "code",
   "execution_count": 5,
   "metadata": {
    "collapsed": true
   },
   "outputs": [],
   "source": [
    "% matplotlib inline\n",
    "import numpy as np\n",
    "import matplotlib.pyplot as plt\n",
    "from sklearn.utils import shuffle\n",
    "import pandas as pd"
   ]
  },
  {
   "cell_type": "markdown",
   "metadata": {},
   "source": [
    "## Preprocessing \n",
    "\n",
    "Copied from previous section"
   ]
  },
  {
   "cell_type": "code",
   "execution_count": 6,
   "metadata": {
    "collapsed": true
   },
   "outputs": [],
   "source": [
    "def get_data():\n",
    "    df = pd.read_csv('../data/ecommerce_data.csv')\n",
    "    # turn it into numpy matrix\n",
    "    data = df.as_matrix()\n",
    "    \n",
    "    # Y is the last column, so X is everything else\n",
    "    X = data[:,:-1]\n",
    "    Y = data[:, -1]\n",
    "    \n",
    "    # Normalize numerical columns\n",
    "    X[:,1] = (X[:,1] - X[:,1].mean()) / X[:,1].std()\n",
    "    X[:,2] = (X[:,2] - X[:,2].mean()) / X[:,2].std()\n",
    "    \n",
    "    # Work on category column\n",
    "    # Get shape of original X and make new one with shape of NxD+3 (there are 4 categories)\n",
    "    N, D = X.shape\n",
    "    X2 = np.zeros((N, D+3))\n",
    "    # Most of X is going to be the same 0:D-1 column\n",
    "    X2[:,0:(D-1)] = X[:,0:(D-1)]\n",
    "    \n",
    "    # one hot encoding for others\n",
    "    # Get time of day (0/1/2/3) and set this value in X2 to 1\n",
    "    for n in range(N):\n",
    "        t = int(X[n,D-1])\n",
    "        X2[n,t+D-1] = 1\n",
    "        \n",
    "        # method 2\n",
    "    # Z = np.zeros((N, 4))\n",
    "    # Z[np.arange(N), X[:,D-1].astype(np.int32)] = 1\n",
    "    # # assign: X2[:,-4:] = Z\n",
    "    # assert(np.abs(X2[:,-4:] - Z).sum() < 1e-10)\n",
    "    \n",
    "    return X2, Y"
   ]
  },
  {
   "cell_type": "code",
   "execution_count": 7,
   "metadata": {
    "collapsed": true
   },
   "outputs": [],
   "source": [
    "# For logistics class we only want binary data so we'll only use classes 0 and 1\n",
    "def get_binary_data():\n",
    "    # return only the data from the first 2 classes\n",
    "    X, Y = get_data()\n",
    "    X2 = X[Y <= 1]\n",
    "    Y2 = Y[Y <= 1]\n",
    "    return X2, Y2"
   ]
  },
  {
   "cell_type": "code",
   "execution_count": 8,
   "metadata": {},
   "outputs": [],
   "source": [
    "X, Y = get_binary_data()\n",
    "# Shuffle\n",
    "X, Y = shuffle(X, Y)"
   ]
  },
  {
   "cell_type": "code",
   "execution_count": 10,
   "metadata": {},
   "outputs": [],
   "source": [
    "# Create train and test sets\n",
    "Xtrain = X[:-100]\n",
    "Ytrain = Y[:-100]\n",
    "Xtest = X[-100:]\n",
    "Ytest = Y[-100:]"
   ]
  },
  {
   "cell_type": "code",
   "execution_count": 11,
   "metadata": {
    "collapsed": true
   },
   "outputs": [],
   "source": [
    "D = X.shape[1]\n",
    "W = np.random.randn(D)\n",
    "b = 0"
   ]
  },
  {
   "cell_type": "code",
   "execution_count": 13,
   "metadata": {
    "collapsed": true
   },
   "outputs": [],
   "source": [
    "def sigmoid(a):\n",
    "    return 1 / (1 + np.exp(-a))\n",
    "\n",
    "def forward(X, W, b):\n",
    "    return sigmoid(X.dot(W) + b)\n",
    "\n",
    "def classification_rate(Y, P):\n",
    "    # Returns divides number of correct vs total numbers\n",
    "    return np.mean(Y == P)"
   ]
  },
  {
   "cell_type": "code",
   "execution_count": 14,
   "metadata": {
    "collapsed": true
   },
   "outputs": [],
   "source": [
    "def cross_entropy(T, pY):\n",
    "    return -np.mean(T*np.log(pY) + (1 - T)*np.log(1 - pY))"
   ]
  },
  {
   "cell_type": "code",
   "execution_count": 16,
   "metadata": {},
   "outputs": [
    {
     "name": "stdout",
     "output_type": "stream",
     "text": [
      "0 1.24990706685 1.13176615639\n",
      "1000 0.199760329375 0.142956028998\n",
      "2000 0.198325779312 0.141982650012\n",
      "3000 0.198230743911 0.141987654029\n",
      "4000 0.198222741194 0.142006166645\n",
      "5000 0.198222025263 0.142013119019\n",
      "6000 0.198221960089 0.142015340575\n",
      "7000 0.198221954124 0.142016023617\n",
      "8000 0.198221953578 0.142016231386\n",
      "9000 0.198221953528 0.142016294389\n"
     ]
    }
   ],
   "source": [
    "train_costs = []\n",
    "test_costs = []\n",
    "learning_rate = 0.001\n",
    "for i in range(10000):\n",
    "    pYtrain = forward(Xtrain, W, b)\n",
    "    pYtest = forward(Xtest, W, b)\n",
    "    \n",
    "    # costs\n",
    "    ctrain = cross_entropy(Ytrain, pYtrain)\n",
    "    ctest = cross_entropy(Ytest, pYtest)\n",
    "    \n",
    "    # append to costs\n",
    "    train_costs.append(ctrain)\n",
    "    test_costs.append(ctest)\n",
    "    \n",
    "    # Gradient descent - vectorized versions of equations\n",
    "    W -= learning_rate * Xtrain.T.dot(pYtrain - Ytrain)\n",
    "    b -= learning_rate * (pYtrain - Ytrain).sum()\n",
    "    if i % 1000 == 0:\n",
    "        print(i, ctrain, ctest)"
   ]
  },
  {
   "cell_type": "code",
   "execution_count": 18,
   "metadata": {},
   "outputs": [
    {
     "name": "stdout",
     "output_type": "stream",
     "text": [
      "Final train classification_rate: 0.96644295302\n",
      "Final test classification_rate: 0.95\n"
     ]
    }
   ],
   "source": [
    "print(\"Final train classification_rate:\", classification_rate(Ytrain, np.round(pYtrain)))\n",
    "print(\"Final test classification_rate:\", classification_rate(Ytest, np.round(pYtest)))"
   ]
  },
  {
   "cell_type": "code",
   "execution_count": 19,
   "metadata": {},
   "outputs": [
    {
     "data": {
      "text/plain": [
       "<matplotlib.legend.Legend at 0x16213354668>"
      ]
     },
     "execution_count": 19,
     "metadata": {},
     "output_type": "execute_result"
    },
    {
     "data": {
      "image/png": "[encoded data removed]",
      "text/plain": [
       "<matplotlib.figure.Figure at 0x162180af240>"
      ]
     },
     "metadata": {},
     "output_type": "display_data"
    }
   ],
   "source": [
    "legend1, = plt.plot(train_costs, label=\"train cost\")\n",
    "legend2, = plt.plot(test_costs, label=\"test cost\")\n",
    "plt.legend([legend1, legend2])\n"
   ]
  },
  {
   "cell_type": "code",
   "execution_count": null,
   "metadata": {
    "collapsed": true
   },
   "outputs": [],
   "source": []
  }
 ],
 "metadata": {
  "kernelspec": {
   "display_name": "Python 3",
   "language": "python",
   "name": "python3"
  },
  "language_info": {
   "codemirror_mode": {
    "name": "ipython",
    "version": 3
   },
   "file_extension": ".py",
   "mimetype": "text/x-python",
   "name": "python",
   "nbconvert_exporter": "python",
   "pygments_lexer": "ipython3",
   "version": "3.6.1"
  }
 },
 "nbformat": 4,
 "nbformat_minor": 2
}
