{
 "cells": [
  {
   "cell_type": "markdown",
   "metadata": {},
   "source": [
    " - `N` - Number of samples collected\n",
    " - `D` - Number of dimensions per sample\n",
    " \n",
    "A matrix will be NxD in size\n",
    " \n",
    "Models are trained on inputs `X` and targets `Y`\n",
    "\n",
    "`Y` is also the output of logistic regression model\n",
    "\n",
    "Cost function = error function = objective function\n",
    "\n",
    "We want to minimize cost and error. Objective can mean something to minimize or maximize. Can be accomplished by sign flipping: minimizing = `x^2`, maximizing = `-x^2`\n",
    "\n"
   ]
  }
 ],
 "metadata": {
  "kernelspec": {
   "display_name": "Python 3",
   "language": "python",
   "name": "python3"
  },
  "language_info": {
   "codemirror_mode": {
    "name": "ipython",
    "version": 3
   },
   "file_extension": ".py",
   "mimetype": "text/x-python",
   "name": "python",
   "nbconvert_exporter": "python",
   "pygments_lexer": "ipython3",
   "version": "3.6.1"
  }
 },
 "nbformat": 4,
 "nbformat_minor": 2
}
